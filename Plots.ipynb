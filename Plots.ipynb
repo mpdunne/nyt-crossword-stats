{
 "cells": [
  {
   "cell_type": "code",
   "execution_count": 12,
   "id": "5fb10aa8",
   "metadata": {},
   "outputs": [
    {
     "data": {
      "text/html": [
       "<div>\n",
       "<style scoped>\n",
       "    .dataframe tbody tr th:only-of-type {\n",
       "        vertical-align: middle;\n",
       "    }\n",
       "\n",
       "    .dataframe tbody tr th {\n",
       "        vertical-align: top;\n",
       "    }\n",
       "\n",
       "    .dataframe thead th {\n",
       "        text-align: right;\n",
       "    }\n",
       "</style>\n",
       "<table border=\"1\" class=\"dataframe\">\n",
       "  <thead>\n",
       "    <tr style=\"text-align: right;\">\n",
       "      <th></th>\n",
       "      <th>date</th>\n",
       "      <th>day</th>\n",
       "      <th>elapsed_seconds</th>\n",
       "      <th>solved</th>\n",
       "      <th>checked</th>\n",
       "      <th>revealed</th>\n",
       "      <th>streak_eligible</th>\n",
       "    </tr>\n",
       "  </thead>\n",
       "  <tbody>\n",
       "    <tr>\n",
       "      <th>132</th>\n",
       "      <td>2019-05-13</td>\n",
       "      <td>Mon</td>\n",
       "      <td>449</td>\n",
       "      <td>1</td>\n",
       "      <td>0</td>\n",
       "      <td>0</td>\n",
       "      <td>0</td>\n",
       "    </tr>\n",
       "    <tr>\n",
       "      <th>167</th>\n",
       "      <td>2019-06-17</td>\n",
       "      <td>Mon</td>\n",
       "      <td>362</td>\n",
       "      <td>1</td>\n",
       "      <td>0</td>\n",
       "      <td>0</td>\n",
       "      <td>0</td>\n",
       "    </tr>\n",
       "    <tr>\n",
       "      <th>169</th>\n",
       "      <td>2019-06-19</td>\n",
       "      <td>Wed</td>\n",
       "      <td>1017</td>\n",
       "      <td>1</td>\n",
       "      <td>0</td>\n",
       "      <td>1</td>\n",
       "      <td>0</td>\n",
       "    </tr>\n",
       "    <tr>\n",
       "      <th>174</th>\n",
       "      <td>2019-06-24</td>\n",
       "      <td>Mon</td>\n",
       "      <td>424</td>\n",
       "      <td>1</td>\n",
       "      <td>0</td>\n",
       "      <td>0</td>\n",
       "      <td>0</td>\n",
       "    </tr>\n",
       "    <tr>\n",
       "      <th>203</th>\n",
       "      <td>2019-07-23</td>\n",
       "      <td>Tue</td>\n",
       "      <td>619</td>\n",
       "      <td>1</td>\n",
       "      <td>1</td>\n",
       "      <td>1</td>\n",
       "      <td>0</td>\n",
       "    </tr>\n",
       "    <tr>\n",
       "      <th>...</th>\n",
       "      <td>...</td>\n",
       "      <td>...</td>\n",
       "      <td>...</td>\n",
       "      <td>...</td>\n",
       "      <td>...</td>\n",
       "      <td>...</td>\n",
       "      <td>...</td>\n",
       "    </tr>\n",
       "    <tr>\n",
       "      <th>1597</th>\n",
       "      <td>2023-05-17</td>\n",
       "      <td>Wed</td>\n",
       "      <td>1359</td>\n",
       "      <td>1</td>\n",
       "      <td>0</td>\n",
       "      <td>0</td>\n",
       "      <td>1</td>\n",
       "    </tr>\n",
       "    <tr>\n",
       "      <th>1598</th>\n",
       "      <td>2023-05-18</td>\n",
       "      <td>Thu</td>\n",
       "      <td>1494</td>\n",
       "      <td>1</td>\n",
       "      <td>0</td>\n",
       "      <td>0</td>\n",
       "      <td>1</td>\n",
       "    </tr>\n",
       "    <tr>\n",
       "      <th>1599</th>\n",
       "      <td>2023-05-19</td>\n",
       "      <td>Fri</td>\n",
       "      <td>1717</td>\n",
       "      <td>1</td>\n",
       "      <td>0</td>\n",
       "      <td>0</td>\n",
       "      <td>0</td>\n",
       "    </tr>\n",
       "    <tr>\n",
       "      <th>1600</th>\n",
       "      <td>2023-05-20</td>\n",
       "      <td>Sat</td>\n",
       "      <td>1620</td>\n",
       "      <td>1</td>\n",
       "      <td>0</td>\n",
       "      <td>0</td>\n",
       "      <td>1</td>\n",
       "    </tr>\n",
       "    <tr>\n",
       "      <th>1601</th>\n",
       "      <td>2023-05-21</td>\n",
       "      <td>Sun</td>\n",
       "      <td>1339</td>\n",
       "      <td>1</td>\n",
       "      <td>0</td>\n",
       "      <td>0</td>\n",
       "      <td>1</td>\n",
       "    </tr>\n",
       "  </tbody>\n",
       "</table>\n",
       "<p>344 rows × 7 columns</p>\n",
       "</div>"
      ],
      "text/plain": [
       "            date  day  elapsed_seconds  solved  checked  revealed  \\\n",
       "132   2019-05-13  Mon              449       1        0         0   \n",
       "167   2019-06-17  Mon              362       1        0         0   \n",
       "169   2019-06-19  Wed             1017       1        0         1   \n",
       "174   2019-06-24  Mon              424       1        0         0   \n",
       "203   2019-07-23  Tue              619       1        1         1   \n",
       "...          ...  ...              ...     ...      ...       ...   \n",
       "1597  2023-05-17  Wed             1359       1        0         0   \n",
       "1598  2023-05-18  Thu             1494       1        0         0   \n",
       "1599  2023-05-19  Fri             1717       1        0         0   \n",
       "1600  2023-05-20  Sat             1620       1        0         0   \n",
       "1601  2023-05-21  Sun             1339       1        0         0   \n",
       "\n",
       "      streak_eligible  \n",
       "132                 0  \n",
       "167                 0  \n",
       "169                 0  \n",
       "174                 0  \n",
       "203                 0  \n",
       "...               ...  \n",
       "1597                1  \n",
       "1598                1  \n",
       "1599                0  \n",
       "1600                1  \n",
       "1601                1  \n",
       "\n",
       "[344 rows x 7 columns]"
      ]
     },
     "execution_count": 12,
     "metadata": {},
     "output_type": "execute_result"
    }
   ],
   "source": [
    "import pandas as pd\n",
    "\n",
    "df = pd.read_csv('data.csv')\n",
    "df = df[df['solved'] == 1]\n",
    "df"
   ]
  },
  {
   "cell_type": "code",
   "execution_count": 16,
   "id": "a8ab8ad4",
   "metadata": {},
   "outputs": [
    {
     "data": {
      "text/plain": [
       "<matplotlib.legend.Legend at 0x7fd2b4656dc0>"
      ]
     },
     "execution_count": 16,
     "metadata": {},
     "output_type": "execute_result"
    },
    {
     "data": {
      "image/png": "[encoded data removed]",
      "text/plain": [
       "<Figure size 640x480 with 1 Axes>"
      ]
     },
     "metadata": {},
     "output_type": "display_data"
    }
   ],
   "source": [
    "import matplotlib.pyplot as plt\n",
    "\n",
    "by_day = {day: dd for day, dd in df.groupby('day')}\n",
    "\n",
    "days = ('Mon', 'Tue', 'Wed', 'Thu', 'Fri', 'Sat', 'Sun')\n",
    "\n",
    "for day in days:\n",
    "    dd = by_day[day]\n",
    "    plt.scatter(dd['date'], dd['elapsed_seconds']/60, label=day)\n",
    "    #plt.scatter(range(len(dd)), dd['elapsed_seconds']/60, label=day)\n",
    "    \n",
    "plt.legend()"
   ]
  },
  {
   "cell_type": "code",
   "execution_count": 28,
   "id": "c49df4e2",
   "metadata": {},
   "outputs": [
    {
     "data": {
      "text/plain": [
       "day\n",
       "Fri    19.102137\n",
       "Mon     7.302546\n",
       "Sat    25.145977\n",
       "Sun    32.241667\n",
       "Thu    18.652614\n",
       "Tue     9.660383\n",
       "Wed    14.977011\n",
       "Name: elapsed_seconds, dtype: float64"
      ]
     },
     "execution_count": 28,
     "metadata": {},
     "output_type": "execute_result"
    }
   ],
   "source": [
    "df.groupby('day')['elapsed_seconds'].mean() / 60"
   ]
  },
  {
   "cell_type": "code",
   "execution_count": 29,
   "id": "1d57a8fc",
   "metadata": {},
   "outputs": [
    {
     "data": {
      "text/plain": [
       "day\n",
       "Fri     6.433333\n",
       "Mon     4.366667\n",
       "Sat    10.650000\n",
       "Sun    19.783333\n",
       "Thu    11.266667\n",
       "Tue     5.000000\n",
       "Wed     7.283333\n",
       "Name: elapsed_seconds, dtype: float64"
      ]
     },
     "execution_count": 29,
     "metadata": {},
     "output_type": "execute_result"
    }
   ],
   "source": [
    "df.groupby('day')['elapsed_seconds'].min() / 60"
   ]
  },
  {
   "cell_type": "code",
   "execution_count": 30,
   "id": "15d62fd3",
   "metadata": {},
   "outputs": [
    {
     "data": {
      "text/plain": [
       "day\n",
       "Fri    30.933333\n",
       "Mon    13.250000\n",
       "Sat    41.450000\n",
       "Sun    49.733333\n",
       "Thu    34.583333\n",
       "Tue    23.233333\n",
       "Wed    25.183333\n",
       "Name: elapsed_seconds, dtype: float64"
      ]
     },
     "execution_count": 30,
     "metadata": {},
     "output_type": "execute_result"
    }
   ],
   "source": [
    "df.groupby('day')['elapsed_seconds'].max() / 60"
   ]
  },
  {
   "cell_type": "code",
   "execution_count": null,
   "id": "3f5377da",
   "metadata": {},
   "outputs": [],
   "source": []
  }
 ],
 "metadata": {
  "kernelspec": {
   "display_name": "Python 3 (ipykernel)",
   "language": "python",
   "name": "python3"
  },
  "language_info": {
   "codemirror_mode": {
    "name": "ipython",
    "version": 3
   },
   "file_extension": ".py",
   "mimetype": "text/x-python",
   "name": "python",
   "nbconvert_exporter": "python",
   "pygments_lexer": "ipython3",
   "version": "3.9.4"
  }
 },
 "nbformat": 4,
 "nbformat_minor": 5
}
